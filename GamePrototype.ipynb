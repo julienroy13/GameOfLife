{
 "cells": [
  {
   "cell_type": "code",
   "execution_count": 2,
   "metadata": {
    "collapsed": true
   },
   "outputs": [],
   "source": [
    "import numpy as np\n",
    "import scipy.signal\n",
    "import matplotlib.pyplot as plt\n",
    "%matplotlib inline "
   ]
  },
  {
   "cell_type": "code",
   "execution_count": 8,
   "metadata": {
    "scrolled": true
   },
   "outputs": [
    {
     "name": "stdout",
     "output_type": "stream",
     "text": [
      "int32\n"
     ]
    },
    {
     "data": {
      "image/png": "[encoded data removed]",
      "text/plain": [
       "<matplotlib.figure.Figure at 0x1f4d545d2e8>"
      ]
     },
     "metadata": {},
     "output_type": "display_data"
    }
   ],
   "source": [
    "# BOARD initialization\n",
    "BOARD = np.zeros(shape=(6,6), dtype=np.bool)\n",
    "BOARD[[1,1,2,3,4,4], [1,2,1,4,3,4]] = True\n",
    "\n",
    "# This convolution kernel counts how many neighbors a cell has\n",
    "kernel = np.ones(shape=(3,3), dtype=np.int)\n",
    "kernel[1,1] = 0\n",
    "\n",
    "# Map of number of neighbors for each cell\n",
    "neighbors = scipy.signal.convolve2d(BOARD, kernel, mode=\"same\")\n",
    "\n",
    "# Display\n",
    "plt.figure()\n",
    "\n",
    "plt.subplot(121)\n",
    "plt.imshow(BOARD)\n",
    "plt.set_cmap('viridis')\n",
    "plt.title(\"BOARD\")\n",
    "plt.axis('off')\n",
    "\n",
    "plt.subplot(122)\n",
    "plt.imshow(neighbors)\n",
    "plt.set_cmap(\"Blues\")\n",
    "plt.title(\"neighbors\")\n",
    "plt.axis('off')\n",
    "plt.colorbar()\n",
    "\n",
    "plt.show()"
   ]
  },
  {
   "cell_type": "code",
   "execution_count": 12,
   "metadata": {},
   "outputs": [
    {
     "data": {
      "image/png": "[encoded data removed]",
      "text/plain": [
       "<matplotlib.figure.Figure at 0x1f4d58a26d8>"
      ]
     },
     "metadata": {},
     "output_type": "display_data"
    }
   ],
   "source": [
    "# Computing condition maps\n",
    "V2 = np.array((neighbors==2), dtype=np.bool)\n",
    "V3 = np.array((neighbors==3), dtype=np.bool)\n",
    "\n",
    "# Display\n",
    "plt.figure()\n",
    "\n",
    "plt.subplot(121)\n",
    "plt.imshow(V2)\n",
    "plt.set_cmap('viridis')\n",
    "plt.title(\"V2\")\n",
    "plt.axis('off')\n",
    "\n",
    "plt.subplot(122)\n",
    "plt.imshow(V3)\n",
    "plt.set_cmap('viridis')\n",
    "plt.title(\"V3\")\n",
    "plt.axis('off')\n",
    "\n",
    "plt.show()"
   ]
  },
  {
   "cell_type": "code",
   "execution_count": 88,
   "metadata": {},
   "outputs": [
    {
     "data": {
      "image/png": "[encoded data removed]",
      "text/plain": [
       "<matplotlib.figure.Figure at 0x28be5fafa20>"
      ]
     },
     "metadata": {},
     "output_type": "display_data"
    }
   ],
   "source": [
    "# Computing the Newborns map\n",
    "Newborns = np.invert(np.bitwise_or(BOARD, np.invert(V3)))\n",
    "\n",
    "# Computing the Survivors map\n",
    "Survivors = np.bitwise_and(BOARD.astype(np.bool), np.bitwise_or(V2, V3))\n",
    "\n",
    "# Computing the NewBOARD\n",
    "NewBOARD = Newborns + Survivors\n",
    "\n",
    "# Display\n",
    "plt.figure()\n",
    "plt.imshow(NewBOARD)\n",
    "plt.set_cmap('viridis')\n",
    "plt.title(\"NewBOARD\")\n",
    "plt.axis('off')\n",
    "plt.show()"
   ]
  },
  {
   "cell_type": "markdown",
   "metadata": {},
   "source": [
    "# Multiple iterations test"
   ]
  },
  {
   "cell_type": "code",
   "execution_count": 45,
   "metadata": {
    "collapsed": true
   },
   "outputs": [],
   "source": [
    "# Wrapping everything in a function\n",
    "def takeOneStep(BOARD):\n",
    "    # Convolution step gives how many individuals in a neighborhood\n",
    "    kernel = np.ones(shape=(3,3), dtype=np.int)\n",
    "    neighborhood = scipy.signal.convolve2d(BOARD, kernel, mode=\"same\")\n",
    "\n",
    "    # Substract house-holder to get the number of neighbors\n",
    "    neighbors = neighborhood - BOARD\n",
    "    \n",
    "    # Computing condition maps\n",
    "    V2 = np.array((neighbors==2), dtype=np.int)\n",
    "    V3 = np.array((neighbors==3), dtype=np.int)\n",
    "    \n",
    "    # Computing the Newborns map\n",
    "    ONES = np.ones(shape=(V3.shape[0], V3.shape[1]), dtype=np.int)\n",
    "    Newborns = np.logical_not(np.bitwise_or(BOARD, (ONES - V3))).astype(np.int)\n",
    "\n",
    "    # Computing the Survivors map\n",
    "    Survivors = np.bitwise_and(BOARD, (V2 + V3))\n",
    "\n",
    "    # Computing the NewBOARD\n",
    "    NewBOARD = Newborns + Survivors\n",
    "    \n",
    "    return NewBOARD"
   ]
  },
  {
   "cell_type": "code",
   "execution_count": 46,
   "metadata": {
    "collapsed": true
   },
   "outputs": [],
   "source": [
    "# Wrapping everything in a function\n",
    "def takeOneStepFAST(BOARD):\n",
    "    \n",
    "    # Makes sure BOARD is a boolean matrix\n",
    "    BOARD = BOARD.astype(np.bool)\n",
    "    \n",
    "    # This convolution kernel counts how many neighbors a cell has\n",
    "    kernel = np.ones(shape=(3,3), dtype=np.int)\n",
    "    kernel[1,1] = 0\n",
    "\n",
    "    # Map of number of neighbors for each cell\n",
    "    neighbors = scipy.signal.convolve2d(BOARD, kernel, mode=\"same\")\n",
    "    \n",
    "    # Computing condition maps\n",
    "    V2 = np.array((neighbors==2), dtype=np.bool)\n",
    "    V3 = np.array((neighbors==3), dtype=np.bool)\n",
    "    \n",
    "    # Computing the Newborns map\n",
    "    Newborns = np.invert(np.bitwise_or(BOARD, np.invert(V3)))\n",
    "\n",
    "    # Computing the Survivors map\n",
    "    Survivors = np.bitwise_and(BOARD, np.bitwise_or(V2, V3))\n",
    "\n",
    "    # Computing the NewBOARD\n",
    "    NewBOARD = Newborns + Survivors\n",
    "    \n",
    "    return NewBOARD"
   ]
  },
  {
   "cell_type": "code",
   "execution_count": 47,
   "metadata": {},
   "outputs": [
    {
     "data": {
      "image/png": "[encoded data removed]",
      "text/plain": [
       "<matplotlib.figure.Figure at 0x1f4d5890f60>"
      ]
     },
     "metadata": {},
     "output_type": "display_data"
    },
    {
     "data": {
      "image/png": "[encoded data removed]",
      "text/plain": [
       "<matplotlib.figure.Figure at 0x1f4d5750f60>"
      ]
     },
     "metadata": {},
     "output_type": "display_data"
    }
   ],
   "source": [
    "# BOARD initialization\n",
    "BOARD = np.zeros(shape=(6,6), dtype=np.bool)\n",
    "BOARD[[1,1,2,3,4,4], [1,2,1,4,3,4]] = True\n",
    "\n",
    "# Initial display\n",
    "plt.figure()\n",
    "plt.imshow(BOARD)\n",
    "plt.set_cmap('viridis')\n",
    "plt.title(\"Board 0\")\n",
    "plt.axis('off')\n",
    "plt.show()\n",
    "\n",
    "# Number of steps to process\n",
    "N = 5\n",
    "\n",
    "# For N iterations\n",
    "fig, axs = plt.subplots(1, N, figsize=(10, 50))\n",
    "fig.subplots_adjust(hspace = .5, wspace=.5)\n",
    "\n",
    "for i in list(range(N)):\n",
    "    BOARD = takeOneStepFAST(BOARD)\n",
    "    \n",
    "    #Display\n",
    "    axs[i].imshow(BOARD)\n",
    "    axs[i].set_title(\"Board \" + str(i+1))\n",
    "    axs[i].axis('off')\n",
    "\n",
    "plt.show()"
   ]
  },
  {
   "cell_type": "markdown",
   "metadata": {},
   "source": [
    "# Speed Test"
   ]
  },
  {
   "cell_type": "code",
   "execution_count": 49,
   "metadata": {},
   "outputs": [
    {
     "name": "stdout",
     "output_type": "stream",
     "text": [
      "FAST implementation :\n",
      "\tTotal = 2.53 s\n",
      "\tAvg = 0.02531 ms\n",
      "\n",
      "--------------------------------\n",
      "\n",
      "Slow implementation :\n",
      "\tTotal = 2.83 s\n",
      "\tAvg = 0.02829 ms\n"
     ]
    }
   ],
   "source": [
    "import time\n",
    "N = int(1e5)\n",
    "\n",
    "BOARD = np.zeros(shape=(6,6), dtype=np.bool)\n",
    "BOARD[[1,1,2,3,4,4], [1,2,1,4,3,4]] = True\n",
    "\n",
    "start = time.time()\n",
    "for i in list(range(N)):\n",
    "    BOARD = takeOneStepFAST(BOARD)\n",
    "stop = time.time()\n",
    "print(\"FAST implementation :\\n\\tTotal = {0:.2f} s\\n\\tAvg = {1:.5f} ms\".format(stop-start, 1e3*(stop-start)/float(N)))\n",
    "\n",
    "print(\"\\n--------------------------------\\n\")\n",
    "BOARD = np.zeros(shape=(6,6), dtype=np.int)\n",
    "BOARD[[1,1,2,3,4,4], [1,2,1,4,3,4]] = 1\n",
    "\n",
    "start = time.time()\n",
    "for i in list(range(N)):\n",
    "    BOARD = takeOneStep(BOARD)\n",
    "stop = time.time()\n",
    "print(\"Slow implementation :\\n\\tTotal = {0:.2f} s\\n\\tAvg = {1:.5f} ms\".format(stop-start, 1e3*(stop-start)/float(N)))\n",
    "    "
   ]
  },
  {
   "cell_type": "code",
   "execution_count": null,
   "metadata": {
    "collapsed": true
   },
   "outputs": [],
   "source": []
  }
 ],
 "metadata": {
  "kernelspec": {
   "display_name": "Python 3",
   "language": "python",
   "name": "python3"
  },
  "language_info": {
   "codemirror_mode": {
    "name": "ipython",
    "version": 3
   },
   "file_extension": ".py",
   "mimetype": "text/x-python",
   "name": "python",
   "nbconvert_exporter": "python",
   "pygments_lexer": "ipython3",
   "version": "3.6.1"
  }
 },
 "nbformat": 4,
 "nbformat_minor": 2
}
